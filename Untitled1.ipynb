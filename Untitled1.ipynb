{
 "cells": [
  {
   "cell_type": "code",
   "execution_count": 1,
   "id": "8a705da9",
   "metadata": {},
   "outputs": [],
   "source": [
    "import numpy as np # linear algebra\n",
    "import pandas as pd # data processing, CSV file I/O (e.g. pd.read_csv)\n",
    "\n",
    "\n",
    "import os"
   ]
  },
  {
   "cell_type": "code",
   "execution_count": 2,
   "id": "2ccbbfb7",
   "metadata": {},
   "outputs": [
    {
     "ename": "ModuleNotFoundError",
     "evalue": "No module named 'pandas_profiling'",
     "output_type": "error",
     "traceback": [
      "\u001b[1;31m---------------------------------------------------------------------------\u001b[0m",
      "\u001b[1;31mModuleNotFoundError\u001b[0m                       Traceback (most recent call last)",
      "Cell \u001b[1;32mIn[2], line 6\u001b[0m\n\u001b[0;32m      4\u001b[0m \u001b[38;5;28;01mimport\u001b[39;00m \u001b[38;5;21;01mseaborn\u001b[39;00m \u001b[38;5;28;01mas\u001b[39;00m \u001b[38;5;21;01msns\u001b[39;00m\n\u001b[0;32m      5\u001b[0m \u001b[38;5;28;01mimport\u001b[39;00m \u001b[38;5;21;01mmatplotlib\u001b[39;00m\u001b[38;5;21;01m.\u001b[39;00m\u001b[38;5;21;01mpyplot\u001b[39;00m \u001b[38;5;28;01mas\u001b[39;00m \u001b[38;5;21;01mplt\u001b[39;00m\n\u001b[1;32m----> 6\u001b[0m \u001b[38;5;28;01mimport\u001b[39;00m \u001b[38;5;21;01mpandas_profiling\u001b[39;00m \u001b[38;5;28;01mas\u001b[39;00m \u001b[38;5;21;01mprofile\u001b[39;00m   \u001b[38;5;66;03m# To check data distributions and correlations\u001b[39;00m\n\u001b[0;32m      7\u001b[0m \u001b[38;5;28;01mimport\u001b[39;00m \u001b[38;5;21;01mwarnings\u001b[39;00m     \u001b[38;5;66;03m# for supressing a warning when importing large files\u001b[39;00m\n\u001b[0;32m      8\u001b[0m warnings\u001b[38;5;241m.\u001b[39mfilterwarnings(\u001b[38;5;124m\"\u001b[39m\u001b[38;5;124mignore\u001b[39m\u001b[38;5;124m\"\u001b[39m)\n",
      "\u001b[1;31mModuleNotFoundError\u001b[0m: No module named 'pandas_profiling'"
     ]
    }
   ],
   "source": [
    "import pandas as pd\n",
    "import numpy as np\n",
    "import scipy as sc\n",
    "import seaborn as sns\n",
    "import matplotlib.pyplot as plt\n",
    "import pandas_profiling as profile   # To check data distributions and correlations\n",
    "import warnings     # for supressing a warning when importing large files\n",
    "warnings.filterwarnings(\"ignore\")\n",
    "from sklearn.preprocessing import StandardScaler,MinMaxScaler\n",
    "from sklearn.model_selection import train_test_split\n",
    "import pickle\n",
    "import matplotlib.pyplot as plt\n",
    "from scipy import stats\n",
    "import tensorflow as tf\n",
    "from pylab import rcParams\n",
    "from keras.models import Model, load_model\n",
    "from keras.layers import Input, Dense\n",
    "from keras.callbacks import ModelCheckpoint, TensorBoard\n",
    "from keras import regularizers\n",
    "%matplotlib inline\n",
    "sns.set(style='whitegrid', palette='muted', font_scale=1.5)\n",
    "rcParams['figure.figsize'] = 14, 8\n",
    "RANDOM_SEED = 42\n",
    "\n",
    "LABELS = [\"Normal\", \"Fraud\"]"
   ]
  },
  {
   "cell_type": "code",
   "execution_count": 11,
   "id": "66312526",
   "metadata": {},
   "outputs": [],
   "source": [
    "Train=pd.read_csv(\"Train-1542865627584.csv\")\n",
    "Train_Beneficiarydata=pd.read_csv(\"Train_Beneficiarydata-1542865627584.csv\")\n",
    "Train_Inpatientdata=pd.read_csv(\"Train_Inpatientdata-1542865627584.csv\")\n",
    "Train_Outpatientdata=pd.read_csv(\"Train_Outpatientdata-1542865627584.csv\")"
   ]
  },
  {
   "cell_type": "code",
   "execution_count": 13,
   "id": "0f6c79f9",
   "metadata": {},
   "outputs": [],
   "source": [
    "Test=pd.read_csv(\"Test-1542969243754.csv\")\n",
    "Test_Beneficiarydata=pd.read_csv(\"Test_Beneficiarydata-1542969243754.csv\")\n",
    "Test_Inpatientdata=pd.read_csv(\"Test_Inpatientdata-1542969243754.csv\")\n",
    "Test_Outpatientdata=pd.read_csv(\"Test_Outpatientdata-1542969243754.csv\")"
   ]
  },
  {
   "cell_type": "code",
   "execution_count": 14,
   "id": "38d3eb5a",
   "metadata": {},
   "outputs": [
    {
     "name": "stdout",
     "output_type": "stream",
     "text": [
      "Shape of Train data : (5410, 2)\n",
      "Shape of Train_Beneficiarydata data : (138556, 25)\n",
      "Shape of Train_Inpatientdata data : (40474, 30)\n",
      "Shape of Train_Outpatientdata data : (517737, 27)\n",
      "Shape of Test data : (1353, 1)\n",
      "Shape of Test_Beneficiarydata data : (63968, 25)\n",
      "Shape of Test_Inpatientdata data : (9551, 30)\n",
      "Shape of Test_Outpatientdata data : (125841, 27)\n"
     ]
    }
   ],
   "source": [
    "print('Shape of Train data :',Train.shape)\n",
    "print('Shape of Train_Beneficiarydata data :',Train_Beneficiarydata.shape)\n",
    "print('Shape of Train_Inpatientdata data :',Train_Inpatientdata.shape)\n",
    "print('Shape of Train_Outpatientdata data :',Train_Outpatientdata.shape)\n",
    "\n",
    "print('Shape of Test data :',Test.shape)\n",
    "print('Shape of Test_Beneficiarydata data :',Test_Beneficiarydata.shape)\n",
    "print('Shape of Test_Inpatientdata data :',Test_Inpatientdata.shape)\n",
    "print('Shape of Test_Outpatientdata data :',Test_Outpatientdata.shape)"
   ]
  },
  {
   "cell_type": "code",
   "execution_count": 15,
   "id": "13ef4c83",
   "metadata": {},
   "outputs": [
    {
     "name": "stdout",
     "output_type": "stream",
     "text": [
      "Train Shape: (5410, 2) \n",
      "\n",
      "Train Sample:\n",
      "    Provider PotentialFraud\n",
      "0  PRV51001             No\n",
      "1  PRV51003            Yes \n",
      "\n",
      "\n",
      " Test Shape: (1353, 1) \n",
      "\n",
      "Test Sample: \n",
      "    Provider\n",
      "0  PRV51002\n",
      "1  PRV51006\n"
     ]
    }
   ],
   "source": [
    "print('Train Shape:',Train.shape,'\\n')\n",
    "print('Train Sample:\\n',Train.head(2),'\\n')\n",
    "\n",
    "print('\\n Test Shape:',Test.shape,'\\n')\n",
    "print('Test Sample: \\n',Test.head(2))"
   ]
  },
  {
   "cell_type": "code",
   "execution_count": 16,
   "id": "2bbe3a2f",
   "metadata": {},
   "outputs": [
    {
     "name": "stdout",
     "output_type": "stream",
     "text": [
      "Provider\n",
      "PRV51001    1\n",
      "PRV55516    1\n",
      "Name: count, dtype: int64\n",
      "\n",
      " Total missing values in Train : 0\n",
      "\n",
      " Total missing values in Train : 0\n"
     ]
    }
   ],
   "source": [
    "print(Train.Provider.value_counts(sort=True,ascending=False).head(2))  # number of unique providers in train data.Check for duplicates\n",
    "\n",
    "print('\\n Total missing values in Train :',Train.isna().sum().sum())\n",
    "\n",
    "print('\\n Total missing values in Train :',Test.isna().sum().sum())"
   ]
  },
  {
   "cell_type": "code",
   "execution_count": 17,
   "id": "63a59593",
   "metadata": {},
   "outputs": [
    {
     "data": {
      "text/plain": [
       "BeneID                                 0\n",
       "DOB                                    0\n",
       "DOD                                63394\n",
       "Gender                                 0\n",
       "Race                                   0\n",
       "RenalDiseaseIndicator                  0\n",
       "State                                  0\n",
       "County                                 0\n",
       "NoOfMonths_PartACov                    0\n",
       "NoOfMonths_PartBCov                    0\n",
       "ChronicCond_Alzheimer                  0\n",
       "ChronicCond_Heartfailure               0\n",
       "ChronicCond_KidneyDisease              0\n",
       "ChronicCond_Cancer                     0\n",
       "ChronicCond_ObstrPulmonary             0\n",
       "ChronicCond_Depression                 0\n",
       "ChronicCond_Diabetes                   0\n",
       "ChronicCond_IschemicHeart              0\n",
       "ChronicCond_Osteoporasis               0\n",
       "ChronicCond_rheumatoidarthritis        0\n",
       "ChronicCond_stroke                     0\n",
       "IPAnnualReimbursementAmt               0\n",
       "IPAnnualDeductibleAmt                  0\n",
       "OPAnnualReimbursementAmt               0\n",
       "OPAnnualDeductibleAmt                  0\n",
       "dtype: int64"
      ]
     },
     "execution_count": 17,
     "metadata": {},
     "output_type": "execute_result"
    }
   ],
   "source": [
    "Train_Beneficiarydata.isna().sum()\n",
    "Test_Beneficiarydata.isna().sum()\n"
   ]
  },
  {
   "cell_type": "code",
   "execution_count": 18,
   "id": "3d8a0972",
   "metadata": {},
   "outputs": [
    {
     "data": {
      "text/plain": [
       "BeneID                             object\n",
       "DOB                                object\n",
       "DOD                                object\n",
       "Gender                              int64\n",
       "Race                                int64\n",
       "RenalDiseaseIndicator              object\n",
       "State                               int64\n",
       "County                              int64\n",
       "NoOfMonths_PartACov                 int64\n",
       "NoOfMonths_PartBCov                 int64\n",
       "ChronicCond_Alzheimer               int64\n",
       "ChronicCond_Heartfailure            int64\n",
       "ChronicCond_KidneyDisease           int64\n",
       "ChronicCond_Cancer                  int64\n",
       "ChronicCond_ObstrPulmonary          int64\n",
       "ChronicCond_Depression              int64\n",
       "ChronicCond_Diabetes                int64\n",
       "ChronicCond_IschemicHeart           int64\n",
       "ChronicCond_Osteoporasis            int64\n",
       "ChronicCond_rheumatoidarthritis     int64\n",
       "ChronicCond_stroke                  int64\n",
       "IPAnnualReimbursementAmt            int64\n",
       "IPAnnualDeductibleAmt               int64\n",
       "OPAnnualReimbursementAmt            int64\n",
       "OPAnnualDeductibleAmt               int64\n",
       "dtype: object"
      ]
     },
     "execution_count": 18,
     "metadata": {},
     "output_type": "execute_result"
    }
   ],
   "source": [
    "Train_Beneficiarydata.dtypes\n",
    "Test_Beneficiarydata.dtypes"
   ]
  },
  {
   "cell_type": "code",
   "execution_count": 19,
   "id": "60588502",
   "metadata": {},
   "outputs": [],
   "source": [
    "Train_Beneficiarydata = Train_Beneficiarydata.replace({'ChronicCond_Alzheimer': 2, 'ChronicCond_Heartfailure': 2, 'ChronicCond_KidneyDisease': 2,\n",
    "                           'ChronicCond_Cancer': 2, 'ChronicCond_ObstrPulmonary': 2, 'ChronicCond_Depression': 2, \n",
    "                           'ChronicCond_Diabetes': 2, 'ChronicCond_IschemicHeart': 2, 'ChronicCond_Osteoporasis': 2, \n",
    "                           'ChronicCond_rheumatoidarthritis': 2, 'ChronicCond_stroke': 2 }, 0)\n",
    "\n",
    "Train_Beneficiarydata = Train_Beneficiarydata.replace({'RenalDiseaseIndicator': 'Y'}, 1)\n",
    "Test_Beneficiarydata = Test_Beneficiarydata.replace({'ChronicCond_Alzheimer': 2, 'ChronicCond_Heartfailure': 2, 'ChronicCond_KidneyDisease': 2,\n",
    "                           'ChronicCond_Cancer': 2, 'ChronicCond_ObstrPulmonary': 2, 'ChronicCond_Depression': 2, \n",
    "                           'ChronicCond_Diabetes': 2, 'ChronicCond_IschemicHeart': 2, 'ChronicCond_Osteoporasis': 2, \n",
    "                           'ChronicCond_rheumatoidarthritis': 2, 'ChronicCond_stroke': 2 }, 0)\n",
    "Test_Beneficiarydata = Test_Beneficiarydata.replace({'RenalDiseaseIndicator': 'Y'}, 1)\n"
   ]
  },
  {
   "cell_type": "code",
   "execution_count": 20,
   "id": "3668c55f",
   "metadata": {},
   "outputs": [
    {
     "data": {
      "text/html": [
       "<div>\n",
       "<style scoped>\n",
       "    .dataframe tbody tr th:only-of-type {\n",
       "        vertical-align: middle;\n",
       "    }\n",
       "\n",
       "    .dataframe tbody tr th {\n",
       "        vertical-align: top;\n",
       "    }\n",
       "\n",
       "    .dataframe thead th {\n",
       "        text-align: right;\n",
       "    }\n",
       "</style>\n",
       "<table border=\"1\" class=\"dataframe\">\n",
       "  <thead>\n",
       "    <tr style=\"text-align: right;\">\n",
       "      <th></th>\n",
       "      <th>BeneID</th>\n",
       "      <th>DOB</th>\n",
       "      <th>DOD</th>\n",
       "      <th>Gender</th>\n",
       "      <th>Race</th>\n",
       "      <th>RenalDiseaseIndicator</th>\n",
       "      <th>State</th>\n",
       "      <th>County</th>\n",
       "      <th>NoOfMonths_PartACov</th>\n",
       "      <th>NoOfMonths_PartBCov</th>\n",
       "      <th>...</th>\n",
       "      <th>ChronicCond_Depression</th>\n",
       "      <th>ChronicCond_Diabetes</th>\n",
       "      <th>ChronicCond_IschemicHeart</th>\n",
       "      <th>ChronicCond_Osteoporasis</th>\n",
       "      <th>ChronicCond_rheumatoidarthritis</th>\n",
       "      <th>ChronicCond_stroke</th>\n",
       "      <th>IPAnnualReimbursementAmt</th>\n",
       "      <th>IPAnnualDeductibleAmt</th>\n",
       "      <th>OPAnnualReimbursementAmt</th>\n",
       "      <th>OPAnnualDeductibleAmt</th>\n",
       "    </tr>\n",
       "  </thead>\n",
       "  <tbody>\n",
       "    <tr>\n",
       "      <th>0</th>\n",
       "      <td>BENE11001</td>\n",
       "      <td>1943-01-01</td>\n",
       "      <td>NaN</td>\n",
       "      <td>1</td>\n",
       "      <td>1</td>\n",
       "      <td>0</td>\n",
       "      <td>39</td>\n",
       "      <td>230</td>\n",
       "      <td>12</td>\n",
       "      <td>12</td>\n",
       "      <td>...</td>\n",
       "      <td>1</td>\n",
       "      <td>1</td>\n",
       "      <td>1</td>\n",
       "      <td>0</td>\n",
       "      <td>1</td>\n",
       "      <td>1</td>\n",
       "      <td>36000</td>\n",
       "      <td>3204</td>\n",
       "      <td>60</td>\n",
       "      <td>70</td>\n",
       "    </tr>\n",
       "  </tbody>\n",
       "</table>\n",
       "<p>1 rows × 25 columns</p>\n",
       "</div>"
      ],
      "text/plain": [
       "      BeneID         DOB  DOD  Gender  Race RenalDiseaseIndicator  State  \\\n",
       "0  BENE11001  1943-01-01  NaN       1     1                     0     39   \n",
       "\n",
       "   County  NoOfMonths_PartACov  NoOfMonths_PartBCov  ...  \\\n",
       "0     230                   12                   12  ...   \n",
       "\n",
       "   ChronicCond_Depression  ChronicCond_Diabetes  ChronicCond_IschemicHeart  \\\n",
       "0                       1                     1                          1   \n",
       "\n",
       "   ChronicCond_Osteoporasis  ChronicCond_rheumatoidarthritis  \\\n",
       "0                         0                                1   \n",
       "\n",
       "   ChronicCond_stroke  IPAnnualReimbursementAmt  IPAnnualDeductibleAmt  \\\n",
       "0                   1                     36000                   3204   \n",
       "\n",
       "   OPAnnualReimbursementAmt  OPAnnualDeductibleAmt  \n",
       "0                        60                     70  \n",
       "\n",
       "[1 rows x 25 columns]"
      ]
     },
     "execution_count": 20,
     "metadata": {},
     "output_type": "execute_result"
    }
   ],
   "source": [
    "Train_Beneficiarydata.head(1)\n",
    "Test_Beneficiarydata.head(1)"
   ]
  },
  {
   "cell_type": "code",
   "execution_count": 21,
   "id": "eb4bf77d",
   "metadata": {},
   "outputs": [],
   "source": [
    "Train_Beneficiarydata['DOB'] = pd.to_datetime(Train_Beneficiarydata['DOB'] , format = '%Y-%m-%d')\n",
    "Train_Beneficiarydata['DOD'] = pd.to_datetime(Train_Beneficiarydata['DOD'],format = '%Y-%m-%d',errors='ignore')\n",
    "Train_Beneficiarydata['Age'] = round(((Train_Beneficiarydata['DOD'] - Train_Beneficiarydata['DOB']).dt.days)/365)\n",
    "\n",
    "\n",
    "Test_Beneficiarydata['DOB'] = pd.to_datetime(Test_Beneficiarydata['DOB'] , format = '%Y-%m-%d')\n",
    "Test_Beneficiarydata['DOD'] = pd.to_datetime(Test_Beneficiarydata['DOD'],format = '%Y-%m-%d',errors='ignore')\n",
    "Test_Beneficiarydata['Age'] = round(((Test_Beneficiarydata['DOD'] - Test_Beneficiarydata['DOB']).dt.days)/365)"
   ]
  },
  {
   "cell_type": "code",
   "execution_count": 22,
   "id": "9c3960dd",
   "metadata": {},
   "outputs": [],
   "source": [
    "Train_Beneficiarydata.Age.fillna(round(((pd.to_datetime('2009-12-01' , format = '%Y-%m-%d') - Train_Beneficiarydata['DOB']).dt.days)/365),\n",
    "                                 inplace=True)\n",
    "\n",
    "\n",
    "Test_Beneficiarydata.Age.fillna(round(((pd.to_datetime('2009-12-01' , format = '%Y-%m-%d') - Test_Beneficiarydata['DOB']).dt.days)/365),\n",
    "                                 inplace=True)"
   ]
  },
  {
   "cell_type": "code",
   "execution_count": 23,
   "id": "cd04dcd4",
   "metadata": {},
   "outputs": [
    {
     "data": {
      "text/html": [
       "<div>\n",
       "<style scoped>\n",
       "    .dataframe tbody tr th:only-of-type {\n",
       "        vertical-align: middle;\n",
       "    }\n",
       "\n",
       "    .dataframe tbody tr th {\n",
       "        vertical-align: top;\n",
       "    }\n",
       "\n",
       "    .dataframe thead th {\n",
       "        text-align: right;\n",
       "    }\n",
       "</style>\n",
       "<table border=\"1\" class=\"dataframe\">\n",
       "  <thead>\n",
       "    <tr style=\"text-align: right;\">\n",
       "      <th></th>\n",
       "      <th>BeneID</th>\n",
       "      <th>DOB</th>\n",
       "      <th>DOD</th>\n",
       "      <th>Gender</th>\n",
       "      <th>Race</th>\n",
       "      <th>RenalDiseaseIndicator</th>\n",
       "      <th>State</th>\n",
       "      <th>County</th>\n",
       "      <th>NoOfMonths_PartACov</th>\n",
       "      <th>NoOfMonths_PartBCov</th>\n",
       "      <th>...</th>\n",
       "      <th>ChronicCond_Diabetes</th>\n",
       "      <th>ChronicCond_IschemicHeart</th>\n",
       "      <th>ChronicCond_Osteoporasis</th>\n",
       "      <th>ChronicCond_rheumatoidarthritis</th>\n",
       "      <th>ChronicCond_stroke</th>\n",
       "      <th>IPAnnualReimbursementAmt</th>\n",
       "      <th>IPAnnualDeductibleAmt</th>\n",
       "      <th>OPAnnualReimbursementAmt</th>\n",
       "      <th>OPAnnualDeductibleAmt</th>\n",
       "      <th>Age</th>\n",
       "    </tr>\n",
       "  </thead>\n",
       "  <tbody>\n",
       "    <tr>\n",
       "      <th>0</th>\n",
       "      <td>BENE11001</td>\n",
       "      <td>1943-01-01</td>\n",
       "      <td>NaT</td>\n",
       "      <td>1</td>\n",
       "      <td>1</td>\n",
       "      <td>0</td>\n",
       "      <td>39</td>\n",
       "      <td>230</td>\n",
       "      <td>12</td>\n",
       "      <td>12</td>\n",
       "      <td>...</td>\n",
       "      <td>1</td>\n",
       "      <td>1</td>\n",
       "      <td>0</td>\n",
       "      <td>1</td>\n",
       "      <td>1</td>\n",
       "      <td>36000</td>\n",
       "      <td>3204</td>\n",
       "      <td>60</td>\n",
       "      <td>70</td>\n",
       "      <td>67.0</td>\n",
       "    </tr>\n",
       "    <tr>\n",
       "      <th>1</th>\n",
       "      <td>BENE11007</td>\n",
       "      <td>1940-09-01</td>\n",
       "      <td>2009-12-01</td>\n",
       "      <td>1</td>\n",
       "      <td>2</td>\n",
       "      <td>0</td>\n",
       "      <td>45</td>\n",
       "      <td>610</td>\n",
       "      <td>12</td>\n",
       "      <td>12</td>\n",
       "      <td>...</td>\n",
       "      <td>1</td>\n",
       "      <td>0</td>\n",
       "      <td>1</td>\n",
       "      <td>1</td>\n",
       "      <td>0</td>\n",
       "      <td>0</td>\n",
       "      <td>0</td>\n",
       "      <td>1490</td>\n",
       "      <td>160</td>\n",
       "      <td>69.0</td>\n",
       "    </tr>\n",
       "  </tbody>\n",
       "</table>\n",
       "<p>2 rows × 26 columns</p>\n",
       "</div>"
      ],
      "text/plain": [
       "      BeneID        DOB        DOD  Gender  Race RenalDiseaseIndicator  State  \\\n",
       "0  BENE11001 1943-01-01        NaT       1     1                     0     39   \n",
       "1  BENE11007 1940-09-01 2009-12-01       1     2                     0     45   \n",
       "\n",
       "   County  NoOfMonths_PartACov  NoOfMonths_PartBCov  ...  \\\n",
       "0     230                   12                   12  ...   \n",
       "1     610                   12                   12  ...   \n",
       "\n",
       "   ChronicCond_Diabetes  ChronicCond_IschemicHeart  ChronicCond_Osteoporasis  \\\n",
       "0                     1                          1                         0   \n",
       "1                     1                          0                         1   \n",
       "\n",
       "   ChronicCond_rheumatoidarthritis  ChronicCond_stroke  \\\n",
       "0                                1                   1   \n",
       "1                                1                   0   \n",
       "\n",
       "   IPAnnualReimbursementAmt  IPAnnualDeductibleAmt  OPAnnualReimbursementAmt  \\\n",
       "0                     36000                   3204                        60   \n",
       "1                         0                      0                      1490   \n",
       "\n",
       "   OPAnnualDeductibleAmt   Age  \n",
       "0                     70  67.0  \n",
       "1                    160  69.0  \n",
       "\n",
       "[2 rows x 26 columns]"
      ]
     },
     "execution_count": 23,
     "metadata": {},
     "output_type": "execute_result"
    }
   ],
   "source": [
    "Train_Beneficiarydata.head(2)\n",
    "Test_Beneficiarydata.head(2)"
   ]
  },
  {
   "cell_type": "code",
   "execution_count": 24,
   "id": "d013c390",
   "metadata": {},
   "outputs": [
    {
     "data": {
      "text/plain": [
       "0    0.0\n",
       "1    1.0\n",
       "2    0.0\n",
       "Name: WhetherDead, dtype: float64"
      ]
     },
     "execution_count": 24,
     "metadata": {},
     "output_type": "execute_result"
    }
   ],
   "source": [
    "Train_Beneficiarydata.loc[Train_Beneficiarydata.DOD.isna(),'WhetherDead']=0\n",
    "Train_Beneficiarydata.loc[Train_Beneficiarydata.DOD.notna(),'WhetherDead']=1\n",
    "Train_Beneficiarydata.loc[:,'WhetherDead'].head(7)\n",
    "\n",
    "\n",
    "Test_Beneficiarydata.loc[Test_Beneficiarydata.DOD.isna(),'WhetherDead']=0\n",
    "Test_Beneficiarydata.loc[Test_Beneficiarydata.DOD.notna(),'WhetherDead']=1\n",
    "Test_Beneficiarydata.loc[:,'WhetherDead'].head(3)"
   ]
  },
  {
   "cell_type": "code",
   "execution_count": 25,
   "id": "0c1f78f1",
   "metadata": {},
   "outputs": [
    {
     "data": {
      "text/plain": [
       "BeneID                       0\n",
       "ClaimID                      0\n",
       "ClaimStartDt                 0\n",
       "ClaimEndDt                   0\n",
       "Provider                     0\n",
       "InscClaimAmtReimbursed       0\n",
       "AttendingPhysician          31\n",
       "OperatingPhysician        3962\n",
       "OtherPhysician            8538\n",
       "AdmissionDt                  0\n",
       "ClmAdmitDiagnosisCode        0\n",
       "DeductibleAmtPaid          196\n",
       "DischargeDt                  0\n",
       "DiagnosisGroupCode           0\n",
       "ClmDiagnosisCode_1           0\n",
       "ClmDiagnosisCode_2          54\n",
       "ClmDiagnosisCode_3         169\n",
       "ClmDiagnosisCode_4         404\n",
       "ClmDiagnosisCode_5         719\n",
       "ClmDiagnosisCode_6        1197\n",
       "ClmDiagnosisCode_7        1736\n",
       "ClmDiagnosisCode_8        2360\n",
       "ClmDiagnosisCode_9        3238\n",
       "ClmDiagnosisCode_10       8664\n",
       "ClmProcedureCode_1        4118\n",
       "ClmProcedureCode_2        8297\n",
       "ClmProcedureCode_3        9328\n",
       "ClmProcedureCode_4        9522\n",
       "ClmProcedureCode_5        9549\n",
       "ClmProcedureCode_6        9551\n",
       "dtype: int64"
      ]
     },
     "execution_count": 25,
     "metadata": {},
     "output_type": "execute_result"
    }
   ],
   "source": [
    "Train_Inpatientdata.isna().sum()\n",
    "\n",
    "Test_Inpatientdata.isna().sum()"
   ]
  },
  {
   "cell_type": "code",
   "execution_count": 26,
   "id": "cd48a58b",
   "metadata": {},
   "outputs": [
    {
     "name": "stdout",
     "output_type": "stream",
     "text": [
      "Shape of Train data : (5410, 2)\n",
      "Shape of Train_Beneficiarydata data : (138556, 27)\n",
      "Shape of Train_Inpatientdata data : (40474, 30)\n",
      "Shape of Train_Outpatientdata data : (517737, 27)\n",
      "Shape of Test data : (1353, 1)\n",
      "Shape of Test_Beneficiarydata data : (63968, 27)\n",
      "Shape of Test_Inpatientdata data : (9551, 30)\n",
      "Shape of Test_Outpatientdata data : (125841, 27)\n"
     ]
    }
   ],
   "source": [
    "print('Shape of Train data :',Train.shape)\n",
    "print('Shape of Train_Beneficiarydata data :',Train_Beneficiarydata.shape)\n",
    "print('Shape of Train_Inpatientdata data :',Train_Inpatientdata.shape)\n",
    "print('Shape of Train_Outpatientdata data :',Train_Outpatientdata.shape)\n",
    "\n",
    "print('Shape of Test data :',Test.shape)\n",
    "print('Shape of Test_Beneficiarydata data :',Test_Beneficiarydata.shape)\n",
    "print('Shape of Test_Inpatientdata data :',Test_Inpatientdata.shape)\n",
    "print('Shape of Test_Outpatientdata data :',Test_Outpatientdata.shape)"
   ]
  },
  {
   "cell_type": "code",
   "execution_count": 27,
   "id": "83473711",
   "metadata": {},
   "outputs": [
    {
     "name": "stdout",
     "output_type": "stream",
     "text": [
      "Index(['BeneID', 'ClaimID', 'ClaimStartDt', 'ClaimEndDt', 'Provider',\n",
      "       'InscClaimAmtReimbursed', 'AttendingPhysician', 'OperatingPhysician',\n",
      "       'OtherPhysician', 'ClmDiagnosisCode_1', 'ClmDiagnosisCode_2',\n",
      "       'ClmDiagnosisCode_3', 'ClmDiagnosisCode_4', 'ClmDiagnosisCode_5',\n",
      "       'ClmDiagnosisCode_6', 'ClmDiagnosisCode_7', 'ClmDiagnosisCode_8',\n",
      "       'ClmDiagnosisCode_9', 'ClmDiagnosisCode_10', 'ClmProcedureCode_1',\n",
      "       'ClmProcedureCode_2', 'ClmProcedureCode_3', 'ClmProcedureCode_4',\n",
      "       'ClmProcedureCode_5', 'ClmProcedureCode_6', 'DeductibleAmtPaid',\n",
      "       'ClmAdmitDiagnosisCode'],\n",
      "      dtype='object')\n"
     ]
    }
   ],
   "source": [
    "Key_Column_To_Merge_Outpatient=Train_Outpatientdata.columns\n",
    "print(Key_Column_To_Merge_Outpatient)"
   ]
  },
  {
   "cell_type": "code",
   "execution_count": 28,
   "id": "3f748206",
   "metadata": {},
   "outputs": [],
   "source": [
    "Train_Allpatientdata=pd.merge(Train_Outpatientdata,Train_Inpatientdata,\n",
    "                              left_on=['BeneID', 'ClaimID', 'ClaimStartDt', 'ClaimEndDt', 'Provider',\n",
    "       'InscClaimAmtReimbursed', 'AttendingPhysician', 'OperatingPhysician',\n",
    "       'OtherPhysician', 'ClmDiagnosisCode_1', 'ClmDiagnosisCode_2',\n",
    "       'ClmDiagnosisCode_3', 'ClmDiagnosisCode_4', 'ClmDiagnosisCode_5',\n",
    "       'ClmDiagnosisCode_6', 'ClmDiagnosisCode_7', 'ClmDiagnosisCode_8','ClmDiagnosisCode_9', 'ClmDiagnosisCode_10', 'ClmProcedureCode_1',\n",
    "       'ClmProcedureCode_2', 'ClmProcedureCode_3', 'ClmProcedureCode_4',\n",
    "       'ClmProcedureCode_5', 'ClmProcedureCode_6', 'DeductibleAmtPaid',\n",
    "       'ClmAdmitDiagnosisCode'],\n",
    "                              right_on=['BeneID', 'ClaimID', 'ClaimStartDt', 'ClaimEndDt', 'Provider',\n",
    "       'InscClaimAmtReimbursed', 'AttendingPhysician', 'OperatingPhysician',\n",
    "       'OtherPhysician', 'ClmDiagnosisCode_1', 'ClmDiagnosisCode_2',\n",
    "       'ClmDiagnosisCode_3', 'ClmDiagnosisCode_4', 'ClmDiagnosisCode_5',\n",
    "       'ClmDiagnosisCode_6', 'ClmDiagnosisCode_7', 'ClmDiagnosisCode_8',\n",
    "       'ClmDiagnosisCode_9', 'ClmDiagnosisCode_10', 'ClmProcedureCode_1',\n",
    "       'ClmProcedureCode_2', 'ClmProcedureCode_3', 'ClmProcedureCode_4',\n",
    "       'ClmProcedureCode_5', 'ClmProcedureCode_6', 'DeductibleAmtPaid',\n",
    "       'ClmAdmitDiagnosisCode']\n",
    "                              ,how='outer')\n",
    "Test_Allpatientdata=pd.merge(Test_Outpatientdata,Test_Inpatientdata,\n",
    "                              left_on=['BeneID', 'ClaimID', 'ClaimStartDt', 'ClaimEndDt', 'Provider',\n",
    "       'InscClaimAmtReimbursed', 'AttendingPhysician', 'OperatingPhysician',\n",
    "       'OtherPhysician', 'ClmDiagnosisCode_1', 'ClmDiagnosisCode_2',\n",
    "       'ClmDiagnosisCode_3', 'ClmDiagnosisCode_4', 'ClmDiagnosisCode_5',\n",
    "       'ClmDiagnosisCode_6', 'ClmDiagnosisCode_7', 'ClmDiagnosisCode_8',\n",
    "       'ClmDiagnosisCode_9', 'ClmDiagnosisCode_10', 'ClmProcedureCode_1',  'ClmProcedureCode_2', 'ClmProcedureCode_3', 'ClmProcedureCode_4',\n",
    "       'ClmProcedureCode_5', 'ClmProcedureCode_6', 'DeductibleAmtPaid',\n",
    "       'ClmAdmitDiagnosisCode'],\n",
    "                              right_on=['BeneID', 'ClaimID', 'ClaimStartDt', 'ClaimEndDt', 'Provider',\n",
    "       'InscClaimAmtReimbursed', 'AttendingPhysician', 'OperatingPhysician',\n",
    "       'OtherPhysician', 'ClmDiagnosisCode_1', 'ClmDiagnosisCode_2',\n",
    "       'ClmDiagnosisCode_3', 'ClmDiagnosisCode_4', 'ClmDiagnosisCode_5',\n",
    "       'ClmDiagnosisCode_6', 'ClmDiagnosisCode_7', 'ClmDiagnosisCode_8',\n",
    "       'ClmDiagnosisCode_9', 'ClmDiagnosisCode_10', 'ClmProcedureCode_1',\n",
    "       'ClmProcedureCode_2', 'ClmProcedureCode_3', 'ClmProcedureCode_4',\n",
    "       'ClmProcedureCode_5', 'ClmProcedureCode_6', 'DeductibleAmtPaid',\n",
    "       'ClmAdmitDiagnosisCode']\n",
    "                              ,how='outer')"
   ]
  },
  {
   "cell_type": "code",
   "execution_count": 29,
   "id": "6de430de",
   "metadata": {},
   "outputs": [
    {
     "name": "stdout",
     "output_type": "stream",
     "text": [
      "Train_Allpatientdata (558211, 30)\n",
      "Test_Allpatientdata (135392, 30)\n"
     ]
    }
   ],
   "source": [
    "print('Train_Allpatientdata',Train_Allpatientdata.shape)\n",
    "print('Test_Allpatientdata',Test_Allpatientdata.shape)\n"
   ]
  },
  {
   "cell_type": "code",
   "execution_count": 30,
   "id": "a9e62904",
   "metadata": {},
   "outputs": [
    {
     "data": {
      "text/html": [
       "<div>\n",
       "<style scoped>\n",
       "    .dataframe tbody tr th:only-of-type {\n",
       "        vertical-align: middle;\n",
       "    }\n",
       "\n",
       "    .dataframe tbody tr th {\n",
       "        vertical-align: top;\n",
       "    }\n",
       "\n",
       "    .dataframe thead th {\n",
       "        text-align: right;\n",
       "    }\n",
       "</style>\n",
       "<table border=\"1\" class=\"dataframe\">\n",
       "  <thead>\n",
       "    <tr style=\"text-align: right;\">\n",
       "      <th></th>\n",
       "      <th>BeneID</th>\n",
       "      <th>ClaimID</th>\n",
       "      <th>ClaimStartDt</th>\n",
       "      <th>ClaimEndDt</th>\n",
       "      <th>Provider</th>\n",
       "      <th>InscClaimAmtReimbursed</th>\n",
       "      <th>AttendingPhysician</th>\n",
       "      <th>OperatingPhysician</th>\n",
       "      <th>OtherPhysician</th>\n",
       "      <th>ClmDiagnosisCode_1</th>\n",
       "      <th>...</th>\n",
       "      <th>ClmProcedureCode_2</th>\n",
       "      <th>ClmProcedureCode_3</th>\n",
       "      <th>ClmProcedureCode_4</th>\n",
       "      <th>ClmProcedureCode_5</th>\n",
       "      <th>ClmProcedureCode_6</th>\n",
       "      <th>DeductibleAmtPaid</th>\n",
       "      <th>ClmAdmitDiagnosisCode</th>\n",
       "      <th>AdmissionDt</th>\n",
       "      <th>DischargeDt</th>\n",
       "      <th>DiagnosisGroupCode</th>\n",
       "    </tr>\n",
       "  </thead>\n",
       "  <tbody>\n",
       "    <tr>\n",
       "      <th>0</th>\n",
       "      <td>BENE11001</td>\n",
       "      <td>CLM392397</td>\n",
       "      <td>2009-06-02</td>\n",
       "      <td>2009-06-02</td>\n",
       "      <td>PRV55962</td>\n",
       "      <td>30</td>\n",
       "      <td>PHY347633</td>\n",
       "      <td>NaN</td>\n",
       "      <td>PHY347633</td>\n",
       "      <td>V5832</td>\n",
       "      <td>...</td>\n",
       "      <td>NaN</td>\n",
       "      <td>NaN</td>\n",
       "      <td>NaN</td>\n",
       "      <td>NaN</td>\n",
       "      <td>NaN</td>\n",
       "      <td>0.0</td>\n",
       "      <td>NaN</td>\n",
       "      <td>NaN</td>\n",
       "      <td>NaN</td>\n",
       "      <td>NaN</td>\n",
       "    </tr>\n",
       "    <tr>\n",
       "      <th>1</th>\n",
       "      <td>BENE11001</td>\n",
       "      <td>CLM430760</td>\n",
       "      <td>2009-06-23</td>\n",
       "      <td>2009-06-23</td>\n",
       "      <td>PRV56112</td>\n",
       "      <td>30</td>\n",
       "      <td>PHY381777</td>\n",
       "      <td>NaN</td>\n",
       "      <td>PHY381777</td>\n",
       "      <td>9594</td>\n",
       "      <td>...</td>\n",
       "      <td>NaN</td>\n",
       "      <td>NaN</td>\n",
       "      <td>NaN</td>\n",
       "      <td>NaN</td>\n",
       "      <td>NaN</td>\n",
       "      <td>0.0</td>\n",
       "      <td>NaN</td>\n",
       "      <td>NaN</td>\n",
       "      <td>NaN</td>\n",
       "      <td>NaN</td>\n",
       "    </tr>\n",
       "    <tr>\n",
       "      <th>2</th>\n",
       "      <td>BENE11007</td>\n",
       "      <td>CLM233081</td>\n",
       "      <td>2009-03-07</td>\n",
       "      <td>2009-03-07</td>\n",
       "      <td>PRV56979</td>\n",
       "      <td>200</td>\n",
       "      <td>PHY425311</td>\n",
       "      <td>NaN</td>\n",
       "      <td>PHY425311</td>\n",
       "      <td>7248</td>\n",
       "      <td>...</td>\n",
       "      <td>NaN</td>\n",
       "      <td>NaN</td>\n",
       "      <td>NaN</td>\n",
       "      <td>NaN</td>\n",
       "      <td>NaN</td>\n",
       "      <td>0.0</td>\n",
       "      <td>NaN</td>\n",
       "      <td>NaN</td>\n",
       "      <td>NaN</td>\n",
       "      <td>NaN</td>\n",
       "    </tr>\n",
       "    <tr>\n",
       "      <th>3</th>\n",
       "      <td>BENE11007</td>\n",
       "      <td>CLM496381</td>\n",
       "      <td>2009-07-29</td>\n",
       "      <td>2009-07-29</td>\n",
       "      <td>PRV56573</td>\n",
       "      <td>10</td>\n",
       "      <td>PHY393253</td>\n",
       "      <td>PHY347995</td>\n",
       "      <td>NaN</td>\n",
       "      <td>58889</td>\n",
       "      <td>...</td>\n",
       "      <td>NaN</td>\n",
       "      <td>NaN</td>\n",
       "      <td>NaN</td>\n",
       "      <td>NaN</td>\n",
       "      <td>NaN</td>\n",
       "      <td>0.0</td>\n",
       "      <td>5939</td>\n",
       "      <td>NaN</td>\n",
       "      <td>NaN</td>\n",
       "      <td>NaN</td>\n",
       "    </tr>\n",
       "  </tbody>\n",
       "</table>\n",
       "<p>4 rows × 30 columns</p>\n",
       "</div>"
      ],
      "text/plain": [
       "      BeneID    ClaimID ClaimStartDt  ClaimEndDt  Provider  \\\n",
       "0  BENE11001  CLM392397   2009-06-02  2009-06-02  PRV55962   \n",
       "1  BENE11001  CLM430760   2009-06-23  2009-06-23  PRV56112   \n",
       "2  BENE11007  CLM233081   2009-03-07  2009-03-07  PRV56979   \n",
       "3  BENE11007  CLM496381   2009-07-29  2009-07-29  PRV56573   \n",
       "\n",
       "   InscClaimAmtReimbursed AttendingPhysician OperatingPhysician  \\\n",
       "0                      30          PHY347633                NaN   \n",
       "1                      30          PHY381777                NaN   \n",
       "2                     200          PHY425311                NaN   \n",
       "3                      10          PHY393253          PHY347995   \n",
       "\n",
       "  OtherPhysician ClmDiagnosisCode_1  ... ClmProcedureCode_2  \\\n",
       "0      PHY347633              V5832  ...                NaN   \n",
       "1      PHY381777               9594  ...                NaN   \n",
       "2      PHY425311               7248  ...                NaN   \n",
       "3            NaN              58889  ...                NaN   \n",
       "\n",
       "  ClmProcedureCode_3 ClmProcedureCode_4 ClmProcedureCode_5 ClmProcedureCode_6  \\\n",
       "0                NaN                NaN                NaN                NaN   \n",
       "1                NaN                NaN                NaN                NaN   \n",
       "2                NaN                NaN                NaN                NaN   \n",
       "3                NaN                NaN                NaN                NaN   \n",
       "\n",
       "  DeductibleAmtPaid ClmAdmitDiagnosisCode AdmissionDt DischargeDt  \\\n",
       "0               0.0                   NaN         NaN         NaN   \n",
       "1               0.0                   NaN         NaN         NaN   \n",
       "2               0.0                   NaN         NaN         NaN   \n",
       "3               0.0                  5939         NaN         NaN   \n",
       "\n",
       "   DiagnosisGroupCode  \n",
       "0                 NaN  \n",
       "1                 NaN  \n",
       "2                 NaN  \n",
       "3                 NaN  \n",
       "\n",
       "[4 rows x 30 columns]"
      ]
     },
     "execution_count": 30,
     "metadata": {},
     "output_type": "execute_result"
    }
   ],
   "source": [
    "Train_Allpatientdata.head(4)\n",
    "Test_Allpatientdata.head(4)"
   ]
  },
  {
   "cell_type": "code",
   "execution_count": 31,
   "id": "21847ea0",
   "metadata": {},
   "outputs": [],
   "source": [
    "Train_AllPatientDetailsdata=pd.merge(Train_Allpatientdata,Train_Beneficiarydata,left_on='BeneID',right_on='BeneID',how='inner')\n",
    "\n",
    "Test_AllPatientDetailsdata=pd.merge(Test_Allpatientdata,Test_Beneficiarydata,left_on='BeneID',right_on='BeneID',how='inner')"
   ]
  },
  {
   "cell_type": "code",
   "execution_count": 32,
   "id": "72e77e30",
   "metadata": {},
   "outputs": [
    {
     "name": "stdout",
     "output_type": "stream",
     "text": [
      "Shape of All Patient Details Train :  (558211, 56)\n",
      "Shape of All Patient Details Test :  (135392, 56)\n"
     ]
    },
    {
     "data": {
      "text/html": [
       "<div>\n",
       "<style scoped>\n",
       "    .dataframe tbody tr th:only-of-type {\n",
       "        vertical-align: middle;\n",
       "    }\n",
       "\n",
       "    .dataframe tbody tr th {\n",
       "        vertical-align: top;\n",
       "    }\n",
       "\n",
       "    .dataframe thead th {\n",
       "        text-align: right;\n",
       "    }\n",
       "</style>\n",
       "<table border=\"1\" class=\"dataframe\">\n",
       "  <thead>\n",
       "    <tr style=\"text-align: right;\">\n",
       "      <th></th>\n",
       "      <th>BeneID</th>\n",
       "      <th>ClaimID</th>\n",
       "      <th>ClaimStartDt</th>\n",
       "      <th>ClaimEndDt</th>\n",
       "      <th>Provider</th>\n",
       "      <th>InscClaimAmtReimbursed</th>\n",
       "      <th>AttendingPhysician</th>\n",
       "      <th>OperatingPhysician</th>\n",
       "      <th>OtherPhysician</th>\n",
       "      <th>ClmDiagnosisCode_1</th>\n",
       "      <th>...</th>\n",
       "      <th>ChronicCond_IschemicHeart</th>\n",
       "      <th>ChronicCond_Osteoporasis</th>\n",
       "      <th>ChronicCond_rheumatoidarthritis</th>\n",
       "      <th>ChronicCond_stroke</th>\n",
       "      <th>IPAnnualReimbursementAmt</th>\n",
       "      <th>IPAnnualDeductibleAmt</th>\n",
       "      <th>OPAnnualReimbursementAmt</th>\n",
       "      <th>OPAnnualDeductibleAmt</th>\n",
       "      <th>Age</th>\n",
       "      <th>WhetherDead</th>\n",
       "    </tr>\n",
       "  </thead>\n",
       "  <tbody>\n",
       "    <tr>\n",
       "      <th>0</th>\n",
       "      <td>BENE11001</td>\n",
       "      <td>CLM392397</td>\n",
       "      <td>2009-06-02</td>\n",
       "      <td>2009-06-02</td>\n",
       "      <td>PRV55962</td>\n",
       "      <td>30</td>\n",
       "      <td>PHY347633</td>\n",
       "      <td>NaN</td>\n",
       "      <td>PHY347633</td>\n",
       "      <td>V5832</td>\n",
       "      <td>...</td>\n",
       "      <td>1</td>\n",
       "      <td>0</td>\n",
       "      <td>1</td>\n",
       "      <td>1</td>\n",
       "      <td>36000</td>\n",
       "      <td>3204</td>\n",
       "      <td>60</td>\n",
       "      <td>70</td>\n",
       "      <td>67.0</td>\n",
       "      <td>0.0</td>\n",
       "    </tr>\n",
       "    <tr>\n",
       "      <th>1</th>\n",
       "      <td>BENE11001</td>\n",
       "      <td>CLM430760</td>\n",
       "      <td>2009-06-23</td>\n",
       "      <td>2009-06-23</td>\n",
       "      <td>PRV56112</td>\n",
       "      <td>30</td>\n",
       "      <td>PHY381777</td>\n",
       "      <td>NaN</td>\n",
       "      <td>PHY381777</td>\n",
       "      <td>9594</td>\n",
       "      <td>...</td>\n",
       "      <td>1</td>\n",
       "      <td>0</td>\n",
       "      <td>1</td>\n",
       "      <td>1</td>\n",
       "      <td>36000</td>\n",
       "      <td>3204</td>\n",
       "      <td>60</td>\n",
       "      <td>70</td>\n",
       "      <td>67.0</td>\n",
       "      <td>0.0</td>\n",
       "    </tr>\n",
       "  </tbody>\n",
       "</table>\n",
       "<p>2 rows × 56 columns</p>\n",
       "</div>"
      ],
      "text/plain": [
       "      BeneID    ClaimID ClaimStartDt  ClaimEndDt  Provider  \\\n",
       "0  BENE11001  CLM392397   2009-06-02  2009-06-02  PRV55962   \n",
       "1  BENE11001  CLM430760   2009-06-23  2009-06-23  PRV56112   \n",
       "\n",
       "   InscClaimAmtReimbursed AttendingPhysician OperatingPhysician  \\\n",
       "0                      30          PHY347633                NaN   \n",
       "1                      30          PHY381777                NaN   \n",
       "\n",
       "  OtherPhysician ClmDiagnosisCode_1  ... ChronicCond_IschemicHeart  \\\n",
       "0      PHY347633              V5832  ...                         1   \n",
       "1      PHY381777               9594  ...                         1   \n",
       "\n",
       "  ChronicCond_Osteoporasis ChronicCond_rheumatoidarthritis ChronicCond_stroke  \\\n",
       "0                        0                               1                  1   \n",
       "1                        0                               1                  1   \n",
       "\n",
       "  IPAnnualReimbursementAmt IPAnnualDeductibleAmt OPAnnualReimbursementAmt  \\\n",
       "0                    36000                  3204                       60   \n",
       "1                    36000                  3204                       60   \n",
       "\n",
       "  OPAnnualDeductibleAmt   Age  WhetherDead  \n",
       "0                    70  67.0          0.0  \n",
       "1                    70  67.0          0.0  \n",
       "\n",
       "[2 rows x 56 columns]"
      ]
     },
     "execution_count": 32,
     "metadata": {},
     "output_type": "execute_result"
    }
   ],
   "source": [
    "print('Shape of All Patient Details Train : ',Train_AllPatientDetailsdata.shape)\n",
    "Train_AllPatientDetailsdata.head()\n",
    "\n",
    "print('Shape of All Patient Details Test : ',Test_AllPatientDetailsdata.shape)\n",
    "Test_AllPatientDetailsdata.head(2)"
   ]
  },
  {
   "cell_type": "code",
   "execution_count": 33,
   "id": "e043a900",
   "metadata": {},
   "outputs": [],
   "source": [
    "Train_ProviderWithPatientDetailsdata=pd.merge(Train,Train_AllPatientDetailsdata,on='Provider')\n",
    "\n",
    "Test_ProviderWithPatientDetailsdata=pd.merge(Test,Test_AllPatientDetailsdata,on='Provider')"
   ]
  },
  {
   "cell_type": "code",
   "execution_count": 34,
   "id": "42a8f996",
   "metadata": {},
   "outputs": [
    {
     "name": "stdout",
     "output_type": "stream",
     "text": [
      "Shape of Train Provider with Patient Details data :- (558211, 57)\n",
      "Shape of Test Provider with Patient Details data :- (135392, 56)\n"
     ]
    },
    {
     "data": {
      "text/html": [
       "<div>\n",
       "<style scoped>\n",
       "    .dataframe tbody tr th:only-of-type {\n",
       "        vertical-align: middle;\n",
       "    }\n",
       "\n",
       "    .dataframe tbody tr th {\n",
       "        vertical-align: top;\n",
       "    }\n",
       "\n",
       "    .dataframe thead th {\n",
       "        text-align: right;\n",
       "    }\n",
       "</style>\n",
       "<table border=\"1\" class=\"dataframe\">\n",
       "  <thead>\n",
       "    <tr style=\"text-align: right;\">\n",
       "      <th></th>\n",
       "      <th>Provider</th>\n",
       "      <th>BeneID</th>\n",
       "      <th>ClaimID</th>\n",
       "      <th>ClaimStartDt</th>\n",
       "      <th>ClaimEndDt</th>\n",
       "      <th>InscClaimAmtReimbursed</th>\n",
       "      <th>AttendingPhysician</th>\n",
       "      <th>OperatingPhysician</th>\n",
       "      <th>OtherPhysician</th>\n",
       "      <th>ClmDiagnosisCode_1</th>\n",
       "      <th>...</th>\n",
       "      <th>ChronicCond_IschemicHeart</th>\n",
       "      <th>ChronicCond_Osteoporasis</th>\n",
       "      <th>ChronicCond_rheumatoidarthritis</th>\n",
       "      <th>ChronicCond_stroke</th>\n",
       "      <th>IPAnnualReimbursementAmt</th>\n",
       "      <th>IPAnnualDeductibleAmt</th>\n",
       "      <th>OPAnnualReimbursementAmt</th>\n",
       "      <th>OPAnnualDeductibleAmt</th>\n",
       "      <th>Age</th>\n",
       "      <th>WhetherDead</th>\n",
       "    </tr>\n",
       "  </thead>\n",
       "  <tbody>\n",
       "    <tr>\n",
       "      <th>0</th>\n",
       "      <td>PRV51002</td>\n",
       "      <td>BENE13342</td>\n",
       "      <td>CLM129901</td>\n",
       "      <td>2009-01-10</td>\n",
       "      <td>2009-01-10</td>\n",
       "      <td>100</td>\n",
       "      <td>PHY418314</td>\n",
       "      <td>PHY418314</td>\n",
       "      <td>PHY413853</td>\n",
       "      <td>514</td>\n",
       "      <td>...</td>\n",
       "      <td>0</td>\n",
       "      <td>0</td>\n",
       "      <td>0</td>\n",
       "      <td>0</td>\n",
       "      <td>0</td>\n",
       "      <td>0</td>\n",
       "      <td>1310</td>\n",
       "      <td>590</td>\n",
       "      <td>75.0</td>\n",
       "      <td>0.0</td>\n",
       "    </tr>\n",
       "    <tr>\n",
       "      <th>1</th>\n",
       "      <td>PRV51002</td>\n",
       "      <td>BENE13915</td>\n",
       "      <td>CLM163936</td>\n",
       "      <td>2009-01-29</td>\n",
       "      <td>2009-01-29</td>\n",
       "      <td>40</td>\n",
       "      <td>PHY399539</td>\n",
       "      <td>PHY421140</td>\n",
       "      <td>NaN</td>\n",
       "      <td>7840</td>\n",
       "      <td>...</td>\n",
       "      <td>1</td>\n",
       "      <td>0</td>\n",
       "      <td>0</td>\n",
       "      <td>0</td>\n",
       "      <td>22000</td>\n",
       "      <td>3204</td>\n",
       "      <td>1020</td>\n",
       "      <td>910</td>\n",
       "      <td>89.0</td>\n",
       "      <td>0.0</td>\n",
       "    </tr>\n",
       "  </tbody>\n",
       "</table>\n",
       "<p>2 rows × 56 columns</p>\n",
       "</div>"
      ],
      "text/plain": [
       "   Provider     BeneID    ClaimID ClaimStartDt  ClaimEndDt  \\\n",
       "0  PRV51002  BENE13342  CLM129901   2009-01-10  2009-01-10   \n",
       "1  PRV51002  BENE13915  CLM163936   2009-01-29  2009-01-29   \n",
       "\n",
       "   InscClaimAmtReimbursed AttendingPhysician OperatingPhysician  \\\n",
       "0                     100          PHY418314          PHY418314   \n",
       "1                      40          PHY399539          PHY421140   \n",
       "\n",
       "  OtherPhysician ClmDiagnosisCode_1  ... ChronicCond_IschemicHeart  \\\n",
       "0      PHY413853                514  ...                         0   \n",
       "1            NaN               7840  ...                         1   \n",
       "\n",
       "  ChronicCond_Osteoporasis ChronicCond_rheumatoidarthritis ChronicCond_stroke  \\\n",
       "0                        0                               0                  0   \n",
       "1                        0                               0                  0   \n",
       "\n",
       "  IPAnnualReimbursementAmt IPAnnualDeductibleAmt OPAnnualReimbursementAmt  \\\n",
       "0                        0                     0                     1310   \n",
       "1                    22000                  3204                     1020   \n",
       "\n",
       "  OPAnnualDeductibleAmt   Age  WhetherDead  \n",
       "0                   590  75.0          0.0  \n",
       "1                   910  89.0          0.0  \n",
       "\n",
       "[2 rows x 56 columns]"
      ]
     },
     "execution_count": 34,
     "metadata": {},
     "output_type": "execute_result"
    }
   ],
   "source": [
    "print(\"Shape of Train Provider with Patient Details data :-\",Train_ProviderWithPatientDetailsdata.shape)\n",
    "Train_ProviderWithPatientDetailsdata.head()\n",
    "\n",
    "print(\"Shape of Test Provider with Patient Details data :-\",Test_ProviderWithPatientDetailsdata.shape)\n",
    "Test_ProviderWithPatientDetailsdata.head(2)"
   ]
  },
  {
   "cell_type": "code",
   "execution_count": 35,
   "id": "ab0d1270",
   "metadata": {},
   "outputs": [
    {
     "name": "stdout",
     "output_type": "stream",
     "text": [
      "Percent missing values in Test Provider with patient details data :\n",
      "\n"
     ]
    },
    {
     "data": {
      "text/plain": [
       "Provider                             0.000000\n",
       "BeneID                               0.000000\n",
       "ClaimID                              0.000000\n",
       "ClaimStartDt                         0.000000\n",
       "ClaimEndDt                           0.000000\n",
       "InscClaimAmtReimbursed               0.000000\n",
       "AttendingPhysician                   0.256293\n",
       "OperatingPhysician                  79.915357\n",
       "OtherPhysician                      64.080596\n",
       "ClmDiagnosisCode_1                   1.904101\n",
       "ClmDiagnosisCode_2                  35.293814\n",
       "ClmDiagnosisCode_3                  56.682817\n",
       "ClmDiagnosisCode_4                  70.739039\n",
       "ClmDiagnosisCode_5                  80.207102\n",
       "ClmDiagnosisCode_6                  85.109903\n",
       "ClmDiagnosisCode_7                  88.341261\n",
       "ClmDiagnosisCode_8                  90.603581\n",
       "ClmDiagnosisCode_9                  92.705625\n",
       "ClmDiagnosisCode_10                 99.150615\n",
       "ClmProcedureCode_1                  95.962095\n",
       "ClmProcedureCode_2                  99.067153\n",
       "ClmProcedureCode_3                  99.833816\n",
       "ClmProcedureCode_4                  99.978581\n",
       "ClmProcedureCode_5                  99.998523\n",
       "ClmProcedureCode_6                 100.000000\n",
       "DeductibleAmtPaid                    0.144765\n",
       "ClmAdmitDiagnosisCode               73.886197\n",
       "AdmissionDt                         92.945669\n",
       "DischargeDt                         92.945669\n",
       "DiagnosisGroupCode                  92.945669\n",
       "DOB                                  0.000000\n",
       "DOD                                 99.231860\n",
       "Gender                               0.000000\n",
       "Race                                 0.000000\n",
       "RenalDiseaseIndicator                0.000000\n",
       "State                                0.000000\n",
       "County                               0.000000\n",
       "NoOfMonths_PartACov                  0.000000\n",
       "NoOfMonths_PartBCov                  0.000000\n",
       "ChronicCond_Alzheimer                0.000000\n",
       "ChronicCond_Heartfailure             0.000000\n",
       "ChronicCond_KidneyDisease            0.000000\n",
       "ChronicCond_Cancer                   0.000000\n",
       "ChronicCond_ObstrPulmonary           0.000000\n",
       "ChronicCond_Depression               0.000000\n",
       "ChronicCond_Diabetes                 0.000000\n",
       "ChronicCond_IschemicHeart            0.000000\n",
       "ChronicCond_Osteoporasis             0.000000\n",
       "ChronicCond_rheumatoidarthritis      0.000000\n",
       "ChronicCond_stroke                   0.000000\n",
       "IPAnnualReimbursementAmt             0.000000\n",
       "IPAnnualDeductibleAmt                0.000000\n",
       "OPAnnualReimbursementAmt             0.000000\n",
       "OPAnnualDeductibleAmt                0.000000\n",
       "Age                                  0.000000\n",
       "WhetherDead                          0.000000\n",
       "dtype: float64"
      ]
     },
     "execution_count": 35,
     "metadata": {},
     "output_type": "execute_result"
    }
   ],
   "source": [
    "Train_ProviderWithPatientDetailsdata.isnull().sum()*100/len(Train_ProviderWithPatientDetailsdata)\n",
    "\n",
    "\n",
    "print('Percent missing values in Test Provider with patient details data :\\n')\n",
    "Test_ProviderWithPatientDetailsdata.isnull().sum()*100/len(Test_ProviderWithPatientDetailsdata)"
   ]
  },
  {
   "cell_type": "code",
   "execution_count": 36,
   "id": "aec98b7c",
   "metadata": {},
   "outputs": [
    {
     "data": {
      "text/plain": [
       "Provider                                   object\n",
       "BeneID                                     object\n",
       "ClaimID                                    object\n",
       "ClaimStartDt                               object\n",
       "ClaimEndDt                                 object\n",
       "InscClaimAmtReimbursed                      int64\n",
       "AttendingPhysician                         object\n",
       "OperatingPhysician                         object\n",
       "OtherPhysician                             object\n",
       "ClmDiagnosisCode_1                         object\n",
       "ClmDiagnosisCode_2                         object\n",
       "ClmDiagnosisCode_3                         object\n",
       "ClmDiagnosisCode_4                         object\n",
       "ClmDiagnosisCode_5                         object\n",
       "ClmDiagnosisCode_6                         object\n",
       "ClmDiagnosisCode_7                         object\n",
       "ClmDiagnosisCode_8                         object\n",
       "ClmDiagnosisCode_9                         object\n",
       "ClmDiagnosisCode_10                        object\n",
       "ClmProcedureCode_1                        float64\n",
       "ClmProcedureCode_2                        float64\n",
       "ClmProcedureCode_3                        float64\n",
       "ClmProcedureCode_4                        float64\n",
       "ClmProcedureCode_5                        float64\n",
       "ClmProcedureCode_6                        float64\n",
       "DeductibleAmtPaid                         float64\n",
       "ClmAdmitDiagnosisCode                      object\n",
       "AdmissionDt                                object\n",
       "DischargeDt                                object\n",
       "DiagnosisGroupCode                         object\n",
       "DOB                                datetime64[ns]\n",
       "DOD                                datetime64[ns]\n",
       "Gender                                      int64\n",
       "Race                                        int64\n",
       "RenalDiseaseIndicator                      object\n",
       "State                                       int64\n",
       "County                                      int64\n",
       "NoOfMonths_PartACov                         int64\n",
       "NoOfMonths_PartBCov                         int64\n",
       "ChronicCond_Alzheimer                       int64\n",
       "ChronicCond_Heartfailure                    int64\n",
       "ChronicCond_KidneyDisease                   int64\n",
       "ChronicCond_Cancer                          int64\n",
       "ChronicCond_ObstrPulmonary                  int64\n",
       "ChronicCond_Depression                      int64\n",
       "ChronicCond_Diabetes                        int64\n",
       "ChronicCond_IschemicHeart                   int64\n",
       "ChronicCond_Osteoporasis                    int64\n",
       "ChronicCond_rheumatoidarthritis             int64\n",
       "ChronicCond_stroke                          int64\n",
       "IPAnnualReimbursementAmt                    int64\n",
       "IPAnnualDeductibleAmt                       int64\n",
       "OPAnnualReimbursementAmt                    int64\n",
       "OPAnnualDeductibleAmt                       int64\n",
       "Age                                       float64\n",
       "WhetherDead                               float64\n",
       "dtype: object"
      ]
     },
     "execution_count": 36,
     "metadata": {},
     "output_type": "execute_result"
    }
   ],
   "source": [
    "Train_ProviderWithPatientDetailsdata.dtypes\n",
    "Test_ProviderWithPatientDetailsdata.dtypes"
   ]
  },
  {
   "cell_type": "code",
   "execution_count": 37,
   "id": "177ffb2f",
   "metadata": {},
   "outputs": [
    {
     "name": "stdout",
     "output_type": "stream",
     "text": [
      "Percent Distribution of Potential Fraud class:- \n",
      " PotentialFraud\n",
      "No     61.878931\n",
      "Yes    38.121069\n",
      "Name: count, dtype: float64\n"
     ]
    },
    {
     "data": {
      "image/png": "[encoded data removed]",
      "text/plain": [
       "<Figure size 1000x600 with 1 Axes>"
      ]
     },
     "metadata": {},
     "output_type": "display_data"
    }
   ],
   "source": [
    "sns.set_style('white',rc={'figure.figsize':(12,8)})\n",
    "count_classes = pd.value_counts(Train_ProviderWithPatientDetailsdata['PotentialFraud'], sort = True)\n",
    "print(\"Percent Distribution of Potential Fraud class:- \\n\",count_classes*100/len(Train_ProviderWithPatientDetailsdata))\n",
    "LABELS = [\"Non Fraud\", \"Fraud\"]\n",
    "#Drawing a barplot\n",
    "count_classes.plot(kind = 'bar', rot=0,figsize=(10,6))\n",
    "plt.title(\"Potential Fraud distribution in Aggregated claim transactional data\")\n",
    "plt.xticks(range(2), LABELS)\n",
    "plt.xlabel(\"Potential Fraud Class \")\n",
    "plt.ylabel(\"Number of PotentialFraud per Class \")\n",
    "\n",
    "plt.savefig('PotentialFraudDistributionInMergedData')\n"
   ]
  },
  {
   "cell_type": "code",
   "execution_count": 38,
   "id": "46427f4b",
   "metadata": {},
   "outputs": [
    {
     "name": "stdout",
     "output_type": "stream",
     "text": [
      "Percent Distribution of Potential Fraud class:- \n",
      " PotentialFraud\n",
      "No     90.64695\n",
      "Yes     9.35305\n",
      "Name: count, dtype: float64\n"
     ]
    },
    {
     "data": {
      "image/png": "[encoded data removed]",
      "text/plain": [
       "<Figure size 1000x600 with 1 Axes>"
      ]
     },
     "metadata": {},
     "output_type": "display_data"
    }
   ],
   "source": [
    "count_classes_provider = pd.value_counts(Train['PotentialFraud'], sort = True)\n",
    "print(\"Percent Distribution of Potential Fraud class:- \\n\",count_classes_provider*100/len(Train))\n",
    "LABELS = [\"Non Fraud\", \"Fraud\"]\n",
    "#Drawing a barplot\n",
    "count_classes_provider.plot(kind = 'bar', rot=0,figsize=(10,6))\n",
    "plt.title(\"Potential Fraud distribution in individual Providers data\")\n",
    "plt.xticks(range(2), LABELS)\n",
    "plt.xlabel(\"Potential Fraud Class \")\n",
    "plt.ylabel(\"Number of PotentialFraud per Class \")\n",
    "\n",
    "\n",
    "plt.savefig('PotentialFraudDistributionImbalance')"
   ]
  },
  {
   "cell_type": "code",
   "execution_count": 39,
   "id": "551d67d5",
   "metadata": {},
   "outputs": [
    {
     "name": "stdout",
     "output_type": "stream",
     "text": [
      "Providers NonFraud|Fraud Class Percent Distribution in Whole dataset :\n",
      " PotentialFraud\n",
      "No     61.878931\n",
      "Yes    38.121069\n",
      "Name: count, dtype: float64\n"
     ]
    }
   ],
   "source": [
    "print('Providers NonFraud|Fraud Class Percent Distribution in Whole dataset :\\n',count_classes/len(Train_ProviderWithPatientDetailsdata)*100)"
   ]
  },
  {
   "cell_type": "code",
   "execution_count": 40,
   "id": "c3fdbddb",
   "metadata": {},
   "outputs": [
    {
     "name": "stdout",
     "output_type": "stream",
     "text": [
      "Providers NonFraud|Fraud Class Percent Distribution :\n",
      " PotentialFraud\n",
      "No     90.64695\n",
      "Yes     9.35305\n",
      "Name: count, dtype: float64\n"
     ]
    }
   ],
   "source": [
    "print('Providers NonFraud|Fraud Class Percent Distribution :\\n',count_classes_provider/len(Train)*100)"
   ]
  },
  {
   "cell_type": "code",
   "execution_count": 41,
   "id": "ce5323fd",
   "metadata": {},
   "outputs": [
    {
     "ename": "ValueError",
     "evalue": "The number of FixedLocator locations (5), usually from a call to set_ticks, does not match the number of labels (6).",
     "output_type": "error",
     "traceback": [
      "\u001b[1;31m---------------------------------------------------------------------------\u001b[0m",
      "\u001b[1;31mValueError\u001b[0m                                Traceback (most recent call last)",
      "Cell \u001b[1;32mIn[41], line 11\u001b[0m\n\u001b[0;32m      7\u001b[0m \u001b[38;5;66;03m#Giving titles and labels to the plot\u001b[39;00m\n\u001b[0;32m      8\u001b[0m plt\u001b[38;5;241m.\u001b[39mannotate(\u001b[38;5;124m'\u001b[39m\u001b[38;5;124mMaximum Beneficiaries are from this State\u001b[39m\u001b[38;5;124m'\u001b[39m, xy\u001b[38;5;241m=\u001b[39m(\u001b[38;5;241m0.01\u001b[39m,\u001b[38;5;241m8\u001b[39m), xytext\u001b[38;5;241m=\u001b[39m(\u001b[38;5;241m8\u001b[39m, \u001b[38;5;241m6.5\u001b[39m),\n\u001b[0;32m      9\u001b[0m              arrowprops\u001b[38;5;241m=\u001b[39m\u001b[38;5;28mdict\u001b[39m(facecolor\u001b[38;5;241m=\u001b[39m\u001b[38;5;124m'\u001b[39m\u001b[38;5;124mblack\u001b[39m\u001b[38;5;124m'\u001b[39m, shrink\u001b[38;5;241m=\u001b[39m\u001b[38;5;241m0.05\u001b[39m))\n\u001b[1;32m---> 11\u001b[0m plt\u001b[38;5;241m.\u001b[39myticks(np\u001b[38;5;241m.\u001b[39marange(\u001b[38;5;241m0\u001b[39m,\u001b[38;5;241m10\u001b[39m,\u001b[38;5;241m2\u001b[39m), (\u001b[38;5;124m'\u001b[39m\u001b[38;5;124m0 \u001b[39m\u001b[38;5;124m%\u001b[39m\u001b[38;5;124m'\u001b[39m,\u001b[38;5;124m'\u001b[39m\u001b[38;5;124m2 \u001b[39m\u001b[38;5;124m%\u001b[39m\u001b[38;5;124m'\u001b[39m, \u001b[38;5;124m'\u001b[39m\u001b[38;5;124m4 \u001b[39m\u001b[38;5;124m%\u001b[39m\u001b[38;5;124m'\u001b[39m, \u001b[38;5;124m'\u001b[39m\u001b[38;5;124m6 \u001b[39m\u001b[38;5;124m%\u001b[39m\u001b[38;5;124m'\u001b[39m, \u001b[38;5;124m'\u001b[39m\u001b[38;5;124m8 \u001b[39m\u001b[38;5;124m%\u001b[39m\u001b[38;5;124m'\u001b[39m, \u001b[38;5;124m'\u001b[39m\u001b[38;5;124m10\u001b[39m\u001b[38;5;124m%\u001b[39m\u001b[38;5;124m'\u001b[39m))\n\u001b[0;32m     12\u001b[0m plt\u001b[38;5;241m.\u001b[39mtitle(\u001b[38;5;124m\"\u001b[39m\u001b[38;5;124mState - wise Beneficiary Distribution\u001b[39m\u001b[38;5;124m\"\u001b[39m,fontsize\u001b[38;5;241m=\u001b[39m\u001b[38;5;241m18\u001b[39m)\n\u001b[0;32m     13\u001b[0m plt\u001b[38;5;241m.\u001b[39mxlabel(\u001b[38;5;124m\"\u001b[39m\u001b[38;5;124mState Number\u001b[39m\u001b[38;5;124m\"\u001b[39m,fontsize\u001b[38;5;241m=\u001b[39m\u001b[38;5;241m15\u001b[39m)\n",
      "File \u001b[1;32m~\\anaconda3\\Lib\\site-packages\\matplotlib\\pyplot.py:1956\u001b[0m, in \u001b[0;36myticks\u001b[1;34m(ticks, labels, minor, **kwargs)\u001b[0m\n\u001b[0;32m   1954\u001b[0m         l\u001b[38;5;241m.\u001b[39m_internal_update(kwargs)\n\u001b[0;32m   1955\u001b[0m \u001b[38;5;28;01melse\u001b[39;00m:\n\u001b[1;32m-> 1956\u001b[0m     labels \u001b[38;5;241m=\u001b[39m ax\u001b[38;5;241m.\u001b[39mset_yticklabels(labels, minor\u001b[38;5;241m=\u001b[39mminor, \u001b[38;5;241m*\u001b[39m\u001b[38;5;241m*\u001b[39mkwargs)\n\u001b[0;32m   1958\u001b[0m \u001b[38;5;28;01mreturn\u001b[39;00m locs, labels\n",
      "File \u001b[1;32m~\\anaconda3\\Lib\\site-packages\\matplotlib\\axes\\_base.py:74\u001b[0m, in \u001b[0;36m_axis_method_wrapper.__set_name__.<locals>.wrapper\u001b[1;34m(self, *args, **kwargs)\u001b[0m\n\u001b[0;32m     73\u001b[0m \u001b[38;5;28;01mdef\u001b[39;00m \u001b[38;5;21mwrapper\u001b[39m(\u001b[38;5;28mself\u001b[39m, \u001b[38;5;241m*\u001b[39margs, \u001b[38;5;241m*\u001b[39m\u001b[38;5;241m*\u001b[39mkwargs):\n\u001b[1;32m---> 74\u001b[0m     \u001b[38;5;28;01mreturn\u001b[39;00m get_method(\u001b[38;5;28mself\u001b[39m)(\u001b[38;5;241m*\u001b[39margs, \u001b[38;5;241m*\u001b[39m\u001b[38;5;241m*\u001b[39mkwargs)\n",
      "File \u001b[1;32m~\\anaconda3\\Lib\\site-packages\\matplotlib\\_api\\deprecation.py:297\u001b[0m, in \u001b[0;36mrename_parameter.<locals>.wrapper\u001b[1;34m(*args, **kwargs)\u001b[0m\n\u001b[0;32m    292\u001b[0m     warn_deprecated(\n\u001b[0;32m    293\u001b[0m         since, message\u001b[38;5;241m=\u001b[39m\u001b[38;5;124mf\u001b[39m\u001b[38;5;124m\"\u001b[39m\u001b[38;5;124mThe \u001b[39m\u001b[38;5;132;01m{\u001b[39;00mold\u001b[38;5;132;01m!r}\u001b[39;00m\u001b[38;5;124m parameter of \u001b[39m\u001b[38;5;132;01m{\u001b[39;00mfunc\u001b[38;5;241m.\u001b[39m\u001b[38;5;18m__name__\u001b[39m\u001b[38;5;132;01m}\u001b[39;00m\u001b[38;5;124m() \u001b[39m\u001b[38;5;124m\"\u001b[39m\n\u001b[0;32m    294\u001b[0m         \u001b[38;5;124mf\u001b[39m\u001b[38;5;124m\"\u001b[39m\u001b[38;5;124mhas been renamed \u001b[39m\u001b[38;5;132;01m{\u001b[39;00mnew\u001b[38;5;132;01m!r}\u001b[39;00m\u001b[38;5;124m since Matplotlib \u001b[39m\u001b[38;5;132;01m{\u001b[39;00msince\u001b[38;5;132;01m}\u001b[39;00m\u001b[38;5;124m; support \u001b[39m\u001b[38;5;124m\"\u001b[39m\n\u001b[0;32m    295\u001b[0m         \u001b[38;5;124mf\u001b[39m\u001b[38;5;124m\"\u001b[39m\u001b[38;5;124mfor the old name will be dropped %(removal)s.\u001b[39m\u001b[38;5;124m\"\u001b[39m)\n\u001b[0;32m    296\u001b[0m     kwargs[new] \u001b[38;5;241m=\u001b[39m kwargs\u001b[38;5;241m.\u001b[39mpop(old)\n\u001b[1;32m--> 297\u001b[0m \u001b[38;5;28;01mreturn\u001b[39;00m func(\u001b[38;5;241m*\u001b[39margs, \u001b[38;5;241m*\u001b[39m\u001b[38;5;241m*\u001b[39mkwargs)\n",
      "File \u001b[1;32m~\\anaconda3\\Lib\\site-packages\\matplotlib\\axis.py:1969\u001b[0m, in \u001b[0;36mAxis.set_ticklabels\u001b[1;34m(self, labels, minor, fontdict, **kwargs)\u001b[0m\n\u001b[0;32m   1965\u001b[0m \u001b[38;5;28;01mif\u001b[39;00m \u001b[38;5;28misinstance\u001b[39m(locator, mticker\u001b[38;5;241m.\u001b[39mFixedLocator):\n\u001b[0;32m   1966\u001b[0m     \u001b[38;5;66;03m# Passing [] as a list of labels is often used as a way to\u001b[39;00m\n\u001b[0;32m   1967\u001b[0m     \u001b[38;5;66;03m# remove all tick labels, so only error for > 0 labels\u001b[39;00m\n\u001b[0;32m   1968\u001b[0m     \u001b[38;5;28;01mif\u001b[39;00m \u001b[38;5;28mlen\u001b[39m(locator\u001b[38;5;241m.\u001b[39mlocs) \u001b[38;5;241m!=\u001b[39m \u001b[38;5;28mlen\u001b[39m(labels) \u001b[38;5;129;01mand\u001b[39;00m \u001b[38;5;28mlen\u001b[39m(labels) \u001b[38;5;241m!=\u001b[39m \u001b[38;5;241m0\u001b[39m:\n\u001b[1;32m-> 1969\u001b[0m         \u001b[38;5;28;01mraise\u001b[39;00m \u001b[38;5;167;01mValueError\u001b[39;00m(\n\u001b[0;32m   1970\u001b[0m             \u001b[38;5;124m\"\u001b[39m\u001b[38;5;124mThe number of FixedLocator locations\u001b[39m\u001b[38;5;124m\"\u001b[39m\n\u001b[0;32m   1971\u001b[0m             \u001b[38;5;124mf\u001b[39m\u001b[38;5;124m\"\u001b[39m\u001b[38;5;124m (\u001b[39m\u001b[38;5;132;01m{\u001b[39;00m\u001b[38;5;28mlen\u001b[39m(locator\u001b[38;5;241m.\u001b[39mlocs)\u001b[38;5;132;01m}\u001b[39;00m\u001b[38;5;124m), usually from a call to\u001b[39m\u001b[38;5;124m\"\u001b[39m\n\u001b[0;32m   1972\u001b[0m             \u001b[38;5;124m\"\u001b[39m\u001b[38;5;124m set_ticks, does not match\u001b[39m\u001b[38;5;124m\"\u001b[39m\n\u001b[0;32m   1973\u001b[0m             \u001b[38;5;124mf\u001b[39m\u001b[38;5;124m\"\u001b[39m\u001b[38;5;124m the number of labels (\u001b[39m\u001b[38;5;132;01m{\u001b[39;00m\u001b[38;5;28mlen\u001b[39m(labels)\u001b[38;5;132;01m}\u001b[39;00m\u001b[38;5;124m).\u001b[39m\u001b[38;5;124m\"\u001b[39m)\n\u001b[0;32m   1974\u001b[0m     tickd \u001b[38;5;241m=\u001b[39m {loc: lab \u001b[38;5;28;01mfor\u001b[39;00m loc, lab \u001b[38;5;129;01min\u001b[39;00m \u001b[38;5;28mzip\u001b[39m(locator\u001b[38;5;241m.\u001b[39mlocs, labels)}\n\u001b[0;32m   1975\u001b[0m     func \u001b[38;5;241m=\u001b[39m functools\u001b[38;5;241m.\u001b[39mpartial(\u001b[38;5;28mself\u001b[39m\u001b[38;5;241m.\u001b[39m_format_with_dict, tickd)\n",
      "\u001b[1;31mValueError\u001b[0m: The number of FixedLocator locations (5), usually from a call to set_ticks, does not match the number of labels (6)."
     ]
    },
    {
     "data": {
      "image/png": "[encoded data removed]",
      "text/plain": [
       "<Figure size 1600x800 with 1 Axes>"
      ]
     },
     "metadata": {},
     "output_type": "display_data"
    }
   ],
   "source": [
    "count_States = pd.value_counts(Train_Beneficiarydata['State'], sort = True)\n",
    "#print(\"Percent Distribution of Beneficieries per state:- \\n\",count_States*100/len(Train_Beneficiarydata))\n",
    "\n",
    "#Drawing a barplot\n",
    "(count_States*100/len(Train_Beneficiarydata)).plot(kind = 'bar', rot=0,figsize=(16,8),fontsize=12,legend=True)\n",
    "\n",
    "#Giving titles and labels to the plot\n",
    "plt.annotate('Maximum Beneficiaries are from this State', xy=(0.01,8), xytext=(8, 6.5),\n",
    "             arrowprops=dict(facecolor='black', shrink=0.05))\n",
    "\n",
    "plt.yticks(np.arange(0,10,2), ('0 %','2 %', '4 %', '6 %', '8 %', '10%'))\n",
    "plt.title(\"State - wise Beneficiary Distribution\",fontsize=18)\n",
    "plt.xlabel(\"State Number\",fontsize=15)\n",
    "plt.ylabel(\"Percentage of Beneficiaries \"'%',fontsize=15)\n",
    "plt.show()\n",
    "plt.savefig('StateWiseBeneficiaryDistribution')"
   ]
  },
  {
   "cell_type": "code",
   "execution_count": 42,
   "id": "a8f575a2",
   "metadata": {},
   "outputs": [
    {
     "data": {
      "image/png": "[encoded data removed]",
      "text/plain": [
       "<Figure size 1200x800 with 2 Axes>"
      ]
     },
     "metadata": {},
     "output_type": "display_data"
    }
   ],
   "source": [
    "sns.set(rc={'figure.figsize':(12,8)},style='white')\n",
    "\n",
    "f, (ax1, ax2) = plt.subplots(2, 1, sharex=True)\n",
    "f.suptitle('Insurance Claim Amount Reimbursed Vs Age')\n",
    "\n",
    "ax1.scatter(Train_ProviderWithPatientDetailsdata[Train_ProviderWithPatientDetailsdata.PotentialFraud=='Yes'].Age, \n",
    "            Train_ProviderWithPatientDetailsdata[Train_ProviderWithPatientDetailsdata.PotentialFraud=='Yes'].InscClaimAmtReimbursed)\n",
    "ax1.set_title('Fraud')\n",
    "ax1.axhline(y=60000,c='r')\n",
    "ax1.set_ylabel('Insurance Claim Amout Reimbursed')\n",
    "ax2.scatter(Train_ProviderWithPatientDetailsdata[Train_ProviderWithPatientDetailsdata.PotentialFraud=='No'].Age, \n",
    "            Train_ProviderWithPatientDetailsdata[Train_ProviderWithPatientDetailsdata.PotentialFraud=='No'].InscClaimAmtReimbursed)\n",
    "ax2.set_title('Normal')\n",
    "ax2.axhline(y=60000,c='r')\n",
    "ax2.set_xlabel('Age (in Years)')\n",
    "ax2.set_ylabel('Insurance Claim Amout Reimbursed')\n",
    "\n",
    "plt.show()\n",
    "f.savefig('AgeVsClaimAmtReimbursed')"
   ]
  },
  {
   "cell_type": "code",
   "execution_count": null,
   "id": "9235f127",
   "metadata": {},
   "outputs": [],
   "source": []
  }
 ],
 "metadata": {
  "kernelspec": {
   "display_name": "Python 3 (ipykernel)",
   "language": "python",
   "name": "python3"
  },
  "language_info": {
   "codemirror_mode": {
    "name": "ipython",
    "version": 3
   },
   "file_extension": ".py",
   "mimetype": "text/x-python",
   "name": "python",
   "nbconvert_exporter": "python",
   "pygments_lexer": "ipython3",
   "version": "3.11.5"
  }
 },
 "nbformat": 4,
 "nbformat_minor": 5
}
